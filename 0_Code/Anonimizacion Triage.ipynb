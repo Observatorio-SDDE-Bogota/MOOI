{
 "cells": [
  {
   "cell_type": "markdown",
   "id": "31425613",
   "metadata": {},
   "source": [
    "# Anonimización base de Tropa"
   ]
  },
  {
   "cell_type": "markdown",
   "id": "816a3201",
   "metadata": {},
   "source": [
    "Dado que la base de tropa contiene información personal de las unidades productivas y sus propietarios, se decide anonimizar la base antes de publicar la metodología del TRIAGE. "
   ]
  },
  {
   "cell_type": "markdown",
   "id": "d53cc7f8",
   "metadata": {},
   "source": [
    "### Definir las rutas de las carpetas"
   ]
  },
  {
   "cell_type": "code",
   "execution_count": 1,
   "id": "5a6ef807",
   "metadata": {},
   "outputs": [
    {
     "name": "stdout",
     "output_type": "stream",
     "text": [
      "/Users/jennyriveraburgos/Library/CloudStorage/GoogleDrive-jrivera.desarrolloeconomico@gmail.com/My Drive/Notebook_Jupyter_TRIAGE/0_Code\n",
      "/Users/jennyriveraburgos/Library/CloudStorage/GoogleDrive-jrivera.desarrolloeconomico@gmail.com/My Drive/Notebook_Jupyter_TRIAGE/0_Code\n"
     ]
    }
   ],
   "source": [
    "# Se importa la librería para cambiar WD\n",
    "import os\n",
    "print(os.getcwd()) # Ver WD antes\n",
    "\n",
    "# Rutas a las carpetas\n",
    "root = '/Users/jennyriveraburgos/Library/CloudStorage/GoogleDrive-jrivera.desarrolloeconomico@gmail.com/My Drive/Notebook_Jupyter_TRIAGE/'\n",
    "code_path = root + os.sep + '0_Code' + os.sep\n",
    "raw_path = root + os.sep + '1_Raw' + os.sep\n",
    "temp_path = root + os.sep + '2_Temp' + os.sep\n",
    "clean_path = root + os.sep + '3_Clean' + os.sep\n",
    "output_path = root + os.sep + '4_Output' + os.sep\n",
    "\n",
    "os.chdir(code_path) # Cambia el WD a 0_Code\n",
    "print(os.getcwd()) # Ver WD después"
   ]
  },
  {
   "cell_type": "markdown",
   "id": "252ce37b",
   "metadata": {},
   "source": [
    "### Cargar librerías"
   ]
  },
  {
   "cell_type": "code",
   "execution_count": 2,
   "id": "3eef3648",
   "metadata": {},
   "outputs": [],
   "source": [
    "#Código necesario para instalar librerías\n",
    "#pip install fontstyle\n",
    "#pip install prince\n",
    "\n",
    "\n",
    "# Se importan las librerías externas a usar\n",
    "import numpy as np\n",
    "np.random.seed(0)\n",
    "\n",
    "import pandas as pd\n",
    "from IPython.display import Markdown as md\n",
    "import uuid\n",
    "\n",
    "\n",
    "import Diccionario_anonimizacion as Anon_Triage"
   ]
  },
  {
   "cell_type": "markdown",
   "id": "51bb2784",
   "metadata": {},
   "source": [
    "### Abrir base de Tropa"
   ]
  },
  {
   "cell_type": "markdown",
   "id": "5f5e0c07",
   "metadata": {},
   "source": [
    "Se utilizan solo los datos de las unidades productivas que autorizaron el uso de sus datos."
   ]
  },
  {
   "cell_type": "code",
   "execution_count": 3,
   "id": "37dd34d7",
   "metadata": {},
   "outputs": [],
   "source": [
    "#file_tropa = '20220919 Datos Tropa v1+v2.csv'\n",
    "file_tropa = 'Base priorización hasta 21 oct 22.xlsx'\n",
    "\n",
    "if file_tropa[-5:] == '.xlsx':\n",
    "    df_tropa = pd.read_excel(raw_path + file_tropa)\n",
    "else:\n",
    "    df_tropa = pd.read_csv(raw_path + file_tropa, low_memory=False, sep=',')\n",
    "\n",
    "n_tropa_total = len(df_tropa)\n",
    "\n",
    "df_tropa = df_tropa[df_tropa['AUTORIZACION'] == \"Si\"]\n",
    "n_tropa_autorizado = len(df_tropa)"
   ]
  },
  {
   "cell_type": "code",
   "execution_count": 4,
   "id": "11d9d715",
   "metadata": {},
   "outputs": [
    {
     "data": {
      "text/markdown": [
       "La base de tropa cuenta con un total de 158016. Al dejar sólo las observaciones autorizadas se tienen 132102 unidades productivas"
      ],
      "text/plain": [
       "<IPython.core.display.Markdown object>"
      ]
     },
     "execution_count": 4,
     "metadata": {},
     "output_type": "execute_result"
    }
   ],
   "source": [
    "md(f\"La base de tropa cuenta con un total de {n_tropa_total}. Al dejar sólo las observaciones autorizadas se tienen {n_tropa_autorizado} unidades productivas\" )"
   ]
  },
  {
   "cell_type": "markdown",
   "id": "56df3d4f",
   "metadata": {},
   "source": [
    "### Anonimización"
   ]
  },
  {
   "cell_type": "markdown",
   "id": "a29677e1",
   "metadata": {},
   "source": [
    "Las columnas a anonimizar son las contenidas en la lista col_contacto_anon. La anonimización se hara de la siguiente manera: Nombre de columna a anonimizar + ObjectID\n",
    "\n",
    "La siguiente imagen es un ejemplo de como queda la base después de la anonimización.\n",
    "\n",
    "<img src=\"Anonimizacion.png\" width=\"400\" height=\"200\">"
   ]
  },
  {
   "cell_type": "code",
   "execution_count": 5,
   "id": "9692e4bb",
   "metadata": {},
   "outputs": [],
   "source": [
    "col_contacto_anon = ['DIRECCION_COMPLETA', 'COMPLEMENTO',\n",
    "                'NOMBRE_ENCUESTADO', 'RAZON_SOCIAL', 'NOMBRE_COMERCIAL', 'TELEFONOS', 'CORREOS', 'NOMBRE_PROPIETARIO',\n",
    "                'NUMERO_ID_PROPIETARIO', 'NUMERO_ID_NEGOCIO', 'TIPO_ID_NEGOCIO']"
   ]
  },
  {
   "cell_type": "code",
   "execution_count": 6,
   "id": "7ea06f1f",
   "metadata": {},
   "outputs": [],
   "source": [
    "original_ids = df_tropa['ObjectID'].unique()\n",
    "DIGITS = 10  \n",
    "new_ids = {cid: int(uuid.uuid4().hex[:DIGITS], base=16) for cid in original_ids}\n",
    "df_tropa['ObjectID'] = df_tropa['ObjectID'].map(new_ids)"
   ]
  },
  {
   "cell_type": "code",
   "execution_count": 7,
   "id": "51be4437",
   "metadata": {},
   "outputs": [],
   "source": [
    "for col in col_contacto_anon:\n",
    "    df_tropa[col] = df_tropa.apply(lambda x: col + '_' + str(x['ObjectID']), axis=1)"
   ]
  },
  {
   "cell_type": "markdown",
   "id": "0ef2eed9",
   "metadata": {},
   "source": [
    "Adicionalmente, se dejan solo las variables necesarias para la priorización. Estas pueden cambiar según los programas que se incluyen en la priorización."
   ]
  },
  {
   "cell_type": "code",
   "execution_count": 8,
   "id": "f26a02f4",
   "metadata": {},
   "outputs": [],
   "source": [
    "var_anon = Anon_Triage.var_minimas\n",
    "var_total = var_anon + col_contacto_anon\n",
    "df_tropa = df_tropa[var_total]"
   ]
  },
  {
   "cell_type": "markdown",
   "id": "8f279ffb",
   "metadata": {},
   "source": [
    "Se saca una muestra del 20% de la base de tropa para la publicación de la metodología"
   ]
  },
  {
   "cell_type": "code",
   "execution_count": 9,
   "id": "6466167b",
   "metadata": {},
   "outputs": [],
   "source": [
    "df_tropa_muestra = df_tropa.sample(frac=0.20)"
   ]
  },
  {
   "cell_type": "code",
   "execution_count": 10,
   "id": "caefb4eb",
   "metadata": {},
   "outputs": [
    {
     "data": {
      "text/markdown": [
       "La base muestral de tropa cuenta con un total de 26420"
      ],
      "text/plain": [
       "<IPython.core.display.Markdown object>"
      ]
     },
     "execution_count": 10,
     "metadata": {},
     "output_type": "execute_result"
    }
   ],
   "source": [
    "md(f\"La base muestral de tropa cuenta con un total de {len(df_tropa_muestra)}\")"
   ]
  },
  {
   "cell_type": "code",
   "execution_count": 12,
   "id": "decae16c",
   "metadata": {},
   "outputs": [],
   "source": [
    "df_tropa_muestra.to_excel(raw_path + 'df_tropa_muestra.xlsx', index = False)"
   ]
  }
 ],
 "metadata": {
  "kernelspec": {
   "display_name": "Python 3 (ipykernel)",
   "language": "python",
   "name": "python3"
  },
  "language_info": {
   "codemirror_mode": {
    "name": "ipython",
    "version": 3
   },
   "file_extension": ".py",
   "mimetype": "text/x-python",
   "name": "python",
   "nbconvert_exporter": "python",
   "pygments_lexer": "ipython3",
   "version": "3.9.13"
  }
 },
 "nbformat": 4,
 "nbformat_minor": 5
}
